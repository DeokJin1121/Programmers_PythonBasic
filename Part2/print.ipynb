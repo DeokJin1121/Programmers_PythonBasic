{
 "cells": [
  {
   "cell_type": "code",
   "execution_count": 1,
   "metadata": {},
   "outputs": [
    {
     "name": "stdout",
     "output_type": "stream",
     "text": [
      "1 2 3 머쓱이\n"
     ]
    }
   ],
   "source": [
    "# print(*valees, sep, end)\n",
    "print(1, 2, 3, '머쓱이')"
   ]
  },
  {
   "cell_type": "code",
   "execution_count": 3,
   "metadata": {},
   "outputs": [
    {
     "name": "stdout",
     "output_type": "stream",
     "text": [
      "1\t2\t3\t머쓱이\n"
     ]
    }
   ],
   "source": [
    "print(1, 2, 3, '머쓱이', sep = '\\t')"
   ]
  },
  {
   "cell_type": "code",
   "execution_count": 5,
   "metadata": {},
   "outputs": [
    {
     "name": "stdout",
     "output_type": "stream",
     "text": [
      "1 2 3 머쓱이입니다테스트\n"
     ]
    }
   ],
   "source": [
    "print(1, 2, 3, '머쓱이', end = '입니다')\n",
    "print('테스트')"
   ]
  },
  {
   "cell_type": "code",
   "execution_count": 6,
   "metadata": {},
   "outputs": [
    {
     "name": "stdout",
     "output_type": "stream",
     "text": [
      "1\t2\t3\t머쓱이\n",
      "\n",
      "테스트\n"
     ]
    }
   ],
   "source": [
    "print(1, 2, 3, '머쓱이', sep = '\\t',end = '\\n\\n')\n",
    "print('테스트')"
   ]
  }
 ],
 "metadata": {
  "kernelspec": {
   "display_name": "Python 3",
   "language": "python",
   "name": "python3"
  },
  "language_info": {
   "codemirror_mode": {
    "name": "ipython",
    "version": 3
   },
   "file_extension": ".py",
   "mimetype": "text/x-python",
   "name": "python",
   "nbconvert_exporter": "python",
   "pygments_lexer": "ipython3",
   "version": "3.10.0"
  }
 },
 "nbformat": 4,
 "nbformat_minor": 2
}
